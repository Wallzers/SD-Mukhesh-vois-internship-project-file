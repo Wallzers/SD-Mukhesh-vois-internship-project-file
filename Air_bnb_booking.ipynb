{
  "nbformat": 4,
  "nbformat_minor": 0,
  "metadata": {
    "colab": {
      "provenance": []
    },
    "kernelspec": {
      "name": "python3",
      "display_name": "Python 3"
    },
    "language_info": {
      "name": "python"
    }
  },
  "cells": [
    {
      "cell_type": "markdown",
      "source": [
        "# IMPORT THE FRAMEWORKS\n"
      ],
      "metadata": {
        "id": "tXwwq9LCNc8f"
      }
    },
    {
      "cell_type": "code",
      "execution_count": 1,
      "metadata": {
        "id": "l0ePzZa-Ib6K"
      },
      "outputs": [],
      "source": [
        "import pandas as pd\n",
        "import numpy as np\n",
        "import matplotlib.pyplot as plt\n",
        "import seaborn as sns\n",
        "\n",
        "# Set visualization style\n",
        "sns.set_style(\"whitegrid\")\n",
        "# Set option to display all columns (useful for inspection)\n",
        "pd.set_option('display.max_columns', None)\n"
      ]
    },
    {
      "cell_type": "markdown",
      "source": [
        "# LOAD THE DATATSETS"
      ],
      "metadata": {
        "id": "VYD4H68qNVeA"
      }
    },
    {
      "cell_type": "code",
      "source": [
        "file_path = '/content/drive/MyDrive/1730285881-Airbnb_Open_Data.xlsx'\n",
        "try:\n",
        "    # Use pd.read_excel for .xlsx files\n",
        "    df = pd.read_excel(file_path)\n",
        "    print(\"Dataset loaded successfully!\")\n",
        "except FileNotFoundError:\n",
        "    print(f\"Error: File not found at {file_path}. Please check the filename and path.\")\n",
        "    # Exit if file not found to prevent errors in subsequent steps\n",
        "    # In a notebook, exiting might stop the kernel.\n",
        "    # A better approach is to set a flag or handle the error gracefully\n",
        "    # to allow other cells to run if they don't depend on the dataframe.\n",
        "    # For now, we'll just print the error and let subsequent cells potentially fail\n",
        "    # if they require the dataframe.\n",
        "    pass # Removed exit()"
      ],
      "metadata": {
        "colab": {
          "base_uri": "https://localhost:8080/"
        },
        "id": "sWtQAT27MB2P",
        "outputId": "543c08ed-68e5-41e7-cad7-7e6b2535927e"
      },
      "execution_count": 2,
      "outputs": [
        {
          "output_type": "stream",
          "name": "stdout",
          "text": [
            "Dataset loaded successfully!\n"
          ]
        }
      ]
    },
    {
      "cell_type": "markdown",
      "source": [
        "# VISUALIZING THE DATA"
      ],
      "metadata": {
        "id": "NlGiJYM5Nxoc"
      }
    },
    {
      "cell_type": "code",
      "source": [
        "print(\"\\n--- Initial DataFrame Info ---\")\n",
        "df.info()\n"
      ],
      "metadata": {
        "colab": {
          "base_uri": "https://localhost:8080/"
        },
        "id": "7zDVvprENlNj",
        "outputId": "40dfc1f5-7249-44eb-da52-79c1852d2c8c"
      },
      "execution_count": 3,
      "outputs": [
        {
          "output_type": "stream",
          "name": "stdout",
          "text": [
            "\n",
            "--- Initial DataFrame Info ---\n",
            "<class 'pandas.core.frame.DataFrame'>\n",
            "RangeIndex: 102599 entries, 0 to 102598\n",
            "Data columns (total 26 columns):\n",
            " #   Column                          Non-Null Count   Dtype         \n",
            "---  ------                          --------------   -----         \n",
            " 0   id                              102599 non-null  int64         \n",
            " 1   NAME                            102329 non-null  object        \n",
            " 2   host id                         102599 non-null  int64         \n",
            " 3   host_identity_verified          102310 non-null  object        \n",
            " 4   host name                       102191 non-null  object        \n",
            " 5   neighbourhood group             102570 non-null  object        \n",
            " 6   neighbourhood                   102583 non-null  object        \n",
            " 7   lat                             102591 non-null  float64       \n",
            " 8   long                            102591 non-null  float64       \n",
            " 9   country                         102067 non-null  object        \n",
            " 10  country code                    102468 non-null  object        \n",
            " 11  instant_bookable                102494 non-null  float64       \n",
            " 12  cancellation_policy             102523 non-null  object        \n",
            " 13  room type                       102599 non-null  object        \n",
            " 14  Construction year               102385 non-null  float64       \n",
            " 15  price                           102352 non-null  float64       \n",
            " 16  service fee                     102326 non-null  float64       \n",
            " 17  minimum nights                  102190 non-null  float64       \n",
            " 18  number of reviews               102416 non-null  float64       \n",
            " 19  last review                     86706 non-null   datetime64[ns]\n",
            " 20  reviews per month               86720 non-null   float64       \n",
            " 21  review rate number              102273 non-null  float64       \n",
            " 22  calculated host listings count  102280 non-null  float64       \n",
            " 23  availability 365                102151 non-null  float64       \n",
            " 24  house_rules                     47756 non-null   object        \n",
            " 25  license                         2 non-null       object        \n",
            "dtypes: datetime64[ns](1), float64(12), int64(2), object(11)\n",
            "memory usage: 20.4+ MB\n"
          ]
        }
      ]
    },
    {
      "cell_type": "code",
      "source": [
        "print(\"\\nFirst 5 rows of the data:\")\n",
        "print(df.head())"
      ],
      "metadata": {
        "id": "uTSyNfHTNpja",
        "colab": {
          "base_uri": "https://localhost:8080/"
        },
        "outputId": "0e4037af-753c-4184-dcd3-c8546d46d90d"
      },
      "execution_count": 4,
      "outputs": [
        {
          "output_type": "stream",
          "name": "stdout",
          "text": [
            "\n",
            "First 5 rows of the data:\n",
            "        id                                              NAME      host id  \\\n",
            "0  1001254                Clean & quiet apt home by the park  80014485718   \n",
            "1  1002102                             Skylit Midtown Castle  52335172823   \n",
            "2  1002403               THE VILLAGE OF HARLEM....NEW YORK !  78829239556   \n",
            "3  1002755                                               NaN  85098326012   \n",
            "4  1003689  Entire Apt: Spacious Studio/Loft by central park  92037596077   \n",
            "\n",
            "  host_identity_verified host name neighbourhood group neighbourhood  \\\n",
            "0            unconfirmed  Madaline            Brooklyn    Kensington   \n",
            "1               verified     Jenna           Manhattan       Midtown   \n",
            "2                    NaN     Elise           Manhattan        Harlem   \n",
            "3            unconfirmed     Garry            Brooklyn  Clinton Hill   \n",
            "4               verified    Lyndon           Manhattan   East Harlem   \n",
            "\n",
            "        lat      long        country country code  instant_bookable  \\\n",
            "0  40.64749 -73.97237  United States           US               0.0   \n",
            "1  40.75362 -73.98377  United States           US               0.0   \n",
            "2  40.80902 -73.94190  United States           US               1.0   \n",
            "3  40.68514 -73.95976  United States           US               1.0   \n",
            "4  40.79851 -73.94399  United States           US               0.0   \n",
            "\n",
            "  cancellation_policy        room type  Construction year  price  service fee  \\\n",
            "0              strict     Private room             2020.0  966.0        193.0   \n",
            "1            moderate  Entire home/apt             2007.0  142.0         28.0   \n",
            "2            flexible     Private room             2005.0  620.0        124.0   \n",
            "3            moderate  Entire home/apt             2005.0  368.0         74.0   \n",
            "4            moderate  Entire home/apt             2009.0  204.0         41.0   \n",
            "\n",
            "   minimum nights  number of reviews last review  reviews per month  \\\n",
            "0            10.0                9.0  2021-10-19               0.21   \n",
            "1            30.0               45.0  2022-05-21               0.38   \n",
            "2             3.0                0.0         NaT                NaN   \n",
            "3            30.0              270.0  2019-07-05               4.64   \n",
            "4            10.0                9.0  2018-11-19               0.10   \n",
            "\n",
            "   review rate number  calculated host listings count  availability 365  \\\n",
            "0                 4.0                             6.0             286.0   \n",
            "1                 4.0                             2.0             228.0   \n",
            "2                 5.0                             1.0             352.0   \n",
            "3                 4.0                             1.0             322.0   \n",
            "4                 3.0                             1.0             289.0   \n",
            "\n",
            "                                         house_rules license  \n",
            "0  Clean up and treat the home the way you'd like...     NaN  \n",
            "1  Pet friendly but please confirm with me if the...     NaN  \n",
            "2  I encourage you to use my kitchen, cooking and...     NaN  \n",
            "3                                                NaN     NaN  \n",
            "4  Please no smoking in the house, porch or on th...     NaN  \n"
          ]
        }
      ]
    },
    {
      "cell_type": "markdown",
      "source": [
        "# DATA WRANGLING AND CLEANING"
      ],
      "metadata": {
        "id": "2qVgUoxTN693"
      }
    },
    {
      "cell_type": "code",
      "source": [
        "# --- 2.1 Standardize Column Names\n",
        "# Clean up column names by removing spaces and converting to lowercase\n",
        "df.columns = df.columns.str.lower().str.replace(' ', '_')\n",
        "\n",
        "# --- 2.2 Handling Missing Values (Imputation/Removal) ---\n",
        "# Display missing value counts (before and after cleaning)\n",
        "print(\"\\n--- Missing Values Check (Top 10) ---\")\n",
        "print(df.isnull().sum().sort_values(ascending=False).head(10))\n",
        "\n",
        "# For 'host_identity_verified', impute missing values with 'unconfirmed'\n",
        "df['host_identity_verified'].fillna('unconfirmed', inplace=True)\n",
        "\n",
        "# For numerical columns like 'reviews_per_month', 'last_review', 'review_rate_number',\n",
        "# we can impute with 0 or the median/mode depending on the context.\n",
        "# We'll use 0 for review-related metrics, assuming NaN means no reviews yet.\n",
        "df['reviews_per_month'].fillna(0, inplace=True)\n",
        "df['review_rate_number'].fillna(0, inplace=True)\n",
        "\n",
        "# Drop rows where critical columns for the analysis are missing (like price, if any)\n",
        "df.dropna(subset=['price', 'service_fee'], inplace=True)\n",
        "\n",
        "# --- 2.3 Cleaning Numerical Columns ('price' and 'service_fee') ---\n",
        "# These columns often contain '$' and ',' and are stored as objects/strings.\n",
        "def clean_currency(value):\n",
        "    \"\"\"Removes '$' and ',' and converts to a float.\"\"\"\n",
        "    if isinstance(value, str):\n",
        "        return float(value.replace('$', '').replace(',', '').strip())\n",
        "    return value\n",
        "\n",
        "df['price'] = df['price'].apply(clean_currency)\n",
        "df['service_fee'] = df['service_fee'].apply(clean_currency)\n",
        "\n",
        "# --- 2.4 Data Type Conversion for Date-like Column (Q4) ---\n",
        "# Assuming 'construction_year' is available and should be an integer for analysis\n",
        "# If construction_year has missing values, impute with the mode or a placeholder\n",
        "df['construction_year'].fillna(df['construction_year'].mode()[0], inplace=True)\n",
        "df['construction_year'] = df['construction_year'].astype(int)\n",
        "\n",
        "\n",
        "print(\"\\n--- Data Cleaning Complete ---\")\n",
        "print(f\"DataFrame shape after cleaning: {df.shape}\")\n",
        "print(df[['price', 'service_fee', 'host_identity_verified']].head())"
      ],
      "metadata": {
        "colab": {
          "base_uri": "https://localhost:8080/"
        },
        "id": "3qThTexPNsjp",
        "outputId": "525ac5c8-74d5-4978-a4dc-c0c3b133114b"
      },
      "execution_count": 5,
      "outputs": [
        {
          "output_type": "stream",
          "name": "stdout",
          "text": [
            "\n",
            "--- Missing Values Check (Top 10) ---\n",
            "license                           102597\n",
            "house_rules                        54843\n",
            "last_review                        15893\n",
            "reviews_per_month                  15879\n",
            "country                              532\n",
            "availability_365                     448\n",
            "minimum_nights                       409\n",
            "host_name                            408\n",
            "review_rate_number                   326\n",
            "calculated_host_listings_count       319\n",
            "dtype: int64\n",
            "\n",
            "--- Data Cleaning Complete ---\n",
            "DataFrame shape after cleaning: (102113, 26)\n",
            "   price  service_fee host_identity_verified\n",
            "0  966.0        193.0            unconfirmed\n",
            "1  142.0         28.0               verified\n",
            "2  620.0        124.0            unconfirmed\n",
            "3  368.0         74.0            unconfirmed\n",
            "4  204.0         41.0               verified\n"
          ]
        },
        {
          "output_type": "stream",
          "name": "stderr",
          "text": [
            "/tmp/ipython-input-1437635796.py:11: FutureWarning: A value is trying to be set on a copy of a DataFrame or Series through chained assignment using an inplace method.\n",
            "The behavior will change in pandas 3.0. This inplace method will never work because the intermediate object on which we are setting values always behaves as a copy.\n",
            "\n",
            "For example, when doing 'df[col].method(value, inplace=True)', try using 'df.method({col: value}, inplace=True)' or df[col] = df[col].method(value) instead, to perform the operation inplace on the original object.\n",
            "\n",
            "\n",
            "  df['host_identity_verified'].fillna('unconfirmed', inplace=True)\n",
            "/tmp/ipython-input-1437635796.py:16: FutureWarning: A value is trying to be set on a copy of a DataFrame or Series through chained assignment using an inplace method.\n",
            "The behavior will change in pandas 3.0. This inplace method will never work because the intermediate object on which we are setting values always behaves as a copy.\n",
            "\n",
            "For example, when doing 'df[col].method(value, inplace=True)', try using 'df.method({col: value}, inplace=True)' or df[col] = df[col].method(value) instead, to perform the operation inplace on the original object.\n",
            "\n",
            "\n",
            "  df['reviews_per_month'].fillna(0, inplace=True)\n",
            "/tmp/ipython-input-1437635796.py:17: FutureWarning: A value is trying to be set on a copy of a DataFrame or Series through chained assignment using an inplace method.\n",
            "The behavior will change in pandas 3.0. This inplace method will never work because the intermediate object on which we are setting values always behaves as a copy.\n",
            "\n",
            "For example, when doing 'df[col].method(value, inplace=True)', try using 'df.method({col: value}, inplace=True)' or df[col] = df[col].method(value) instead, to perform the operation inplace on the original object.\n",
            "\n",
            "\n",
            "  df['review_rate_number'].fillna(0, inplace=True)\n",
            "/tmp/ipython-input-1437635796.py:36: FutureWarning: A value is trying to be set on a copy of a DataFrame or Series through chained assignment using an inplace method.\n",
            "The behavior will change in pandas 3.0. This inplace method will never work because the intermediate object on which we are setting values always behaves as a copy.\n",
            "\n",
            "For example, when doing 'df[col].method(value, inplace=True)', try using 'df.method({col: value}, inplace=True)' or df[col] = df[col].method(value) instead, to perform the operation inplace on the original object.\n",
            "\n",
            "\n",
            "  df['construction_year'].fillna(df['construction_year'].mode()[0], inplace=True)\n"
          ]
        }
      ]
    },
    {
      "cell_type": "markdown",
      "source": [
        "# Exploratory Data Analysis (EDA) and Answering Questions\n",
        "\n"
      ],
      "metadata": {
        "id": "5loHqhyKQZ1Q"
      }
    },
    {
      "cell_type": "markdown",
      "source": [
        "Q1: What are the different property types in the Dataset?"
      ],
      "metadata": {
        "id": "-EWGEjDvS1Tf"
      }
    },
    {
      "cell_type": "code",
      "source": [
        "print(\"\\n1. Different Property Types:\")\n",
        "# Changed 'property_type' to 'room_type' based on DataFrame columns\n",
        "property_types = df['room_type'].nunique()\n",
        "print(f\"There are {property_types} unique property types.\")\n",
        "print(\"Top 5 Property Types:\")\n",
        "print(df['room_type'].value_counts().head())"
      ],
      "metadata": {
        "colab": {
          "base_uri": "https://localhost:8080/"
        },
        "id": "vZbOn0cMRfTU",
        "outputId": "c4021762-e07b-483e-c08c-31f0f40f1341"
      },
      "execution_count": 6,
      "outputs": [
        {
          "output_type": "stream",
          "name": "stdout",
          "text": [
            "\n",
            "1. Different Property Types:\n",
            "There are 4 unique property types.\n",
            "Top 5 Property Types:\n",
            "room_type\n",
            "Entire home/apt    53454\n",
            "Private room       46330\n",
            "Shared room         2215\n",
            "Hotel room           114\n",
            "Name: count, dtype: int64\n"
          ]
        }
      ]
    },
    {
      "cell_type": "markdown",
      "source": [
        "Q2: Which neighborhood group has the highest number of listings?"
      ],
      "metadata": {
        "id": "aQEWFoYYTC9h"
      }
    },
    {
      "cell_type": "code",
      "source": [
        "print(\"\\n2. Neighborhood Group with Highest Number of Listings:\")\n",
        "listing_counts = df['neighbourhood_group'].value_counts()\n",
        "highest_listings_group = listing_counts.idxmax()\n",
        "print(f\"The neighborhood group with the highest number of listings is: {highest_listings_group} ({listing_counts.max()})\")\n",
        "\n",
        "# Visualization for Q2\n",
        "plt.figure(figsize=(10, 6))\n",
        "sns.barplot(x=listing_counts.index, y=listing_counts.values, palette=\"viridis\")\n",
        "plt.title('Listing Count by Neighbourhood Group (Q2)')\n",
        "plt.xlabel('Neighbourhood Group')\n",
        "plt.ylabel('Number of Listings')\n",
        "plt.show()"
      ],
      "metadata": {
        "colab": {
          "base_uri": "https://localhost:8080/",
          "height": 710
        },
        "id": "ROZPgmBMTGYn",
        "outputId": "3c75f170-b48f-485f-b63f-bcda3a911829"
      },
      "execution_count": 7,
      "outputs": [
        {
          "output_type": "stream",
          "name": "stdout",
          "text": [
            "\n",
            "2. Neighborhood Group with Highest Number of Listings:\n",
            "The neighborhood group with the highest number of listings is: Manhattan (43585)\n"
          ]
        },
        {
          "output_type": "stream",
          "name": "stderr",
          "text": [
            "/tmp/ipython-input-1946202089.py:8: FutureWarning: \n",
            "\n",
            "Passing `palette` without assigning `hue` is deprecated and will be removed in v0.14.0. Assign the `x` variable to `hue` and set `legend=False` for the same effect.\n",
            "\n",
            "  sns.barplot(x=listing_counts.index, y=listing_counts.values, palette=\"viridis\")\n"
          ]
        },
        {
          "output_type": "display_data",
          "data": {
            "text/plain": [
              "<Figure size 1000x600 with 1 Axes>"
            ],
            "image/png": "[encoded data removed]"
          },
          "metadata": {}
        }
      ]
    },
    {
      "cell_type": "markdown",
      "source": [
        "Q3: Which neighborhood group have the highest average prices for Airbnb listings?"
      ],
      "metadata": {
        "id": "FlH6jb2XTLeC"
      }
    },
    {
      "cell_type": "code",
      "source": [
        "print(\"\\n3. Neighborhood Group with Highest Average Price:\")\n",
        "avg_price_by_group = df.groupby('neighbourhood_group')['price'].mean().sort_values(ascending=False)\n",
        "highest_price_group = avg_price_by_group.index[0]\n",
        "print(f\"The neighborhood group with the highest average price is: {highest_price_group} (${avg_price_by_group.max():.2f})\")\n",
        "\n",
        "# Visualization for Q3\n",
        "plt.figure(figsize=(10, 6))\n",
        "sns.barplot(x=avg_price_by_group.index, y=avg_price_by_group.values, palette=\"rocket\")\n",
        "plt.title('Average Price by Neighbourhood Group (Q3)')\n",
        "plt.xlabel('Neighbourhood Group')\n",
        "plt.ylabel('Average Price ($)')\n",
        "plt.show()"
      ],
      "metadata": {
        "colab": {
          "base_uri": "https://localhost:8080/",
          "height": 710
        },
        "id": "6ITqWhciTOZx",
        "outputId": "5255857c-2dec-4710-b772-ce38b93e420b"
      },
      "execution_count": 8,
      "outputs": [
        {
          "output_type": "stream",
          "name": "stdout",
          "text": [
            "\n",
            "3. Neighborhood Group with Highest Average Price:\n",
            "The neighborhood group with the highest average price is: Queens ($630.13)\n"
          ]
        },
        {
          "output_type": "stream",
          "name": "stderr",
          "text": [
            "/tmp/ipython-input-2523455232.py:8: FutureWarning: \n",
            "\n",
            "Passing `palette` without assigning `hue` is deprecated and will be removed in v0.14.0. Assign the `x` variable to `hue` and set `legend=False` for the same effect.\n",
            "\n",
            "  sns.barplot(x=avg_price_by_group.index, y=avg_price_by_group.values, palette=\"rocket\")\n"
          ]
        },
        {
          "output_type": "display_data",
          "data": {
            "text/plain": [
              "<Figure size 1000x600 with 1 Axes>"
            ],
            "image/png": "[encoded data removed]"
          },
          "metadata": {}
        }
      ]
    },
    {
      "cell_type": "markdown",
      "source": [
        "Q4: Is there a relationship between the construction year of property and price?"
      ],
      "metadata": {
        "id": "8rtbFs_GTSXG"
      }
    },
    {
      "cell_type": "code",
      "source": [
        "print(\"\\n4. Relationship between Construction Year and Price:\")\n",
        "# Calculate Pearson correlation coefficient\n",
        "correlation_year_price = df[['construction_year', 'price']].corr().iloc[0, 1]\n",
        "print(f\"The correlation between Construction Year and Price is: {correlation_year_price:.4f}\")\n",
        "if abs(correlation_year_price) < 0.1:\n",
        "    print(\"This indicates a very weak to no linear relationship.\")\n",
        "else:\n",
        "    print(\"This indicates a notable relationship.\")"
      ],
      "metadata": {
        "colab": {
          "base_uri": "https://localhost:8080/"
        },
        "id": "14ie3LCJTR9I",
        "outputId": "6e8df48c-7292-4386-bb22-55b27ba0e65c"
      },
      "execution_count": 9,
      "outputs": [
        {
          "output_type": "stream",
          "name": "stdout",
          "text": [
            "\n",
            "4. Relationship between Construction Year and Price:\n",
            "The correlation between Construction Year and Price is: -0.0037\n",
            "This indicates a very weak to no linear relationship.\n"
          ]
        }
      ]
    },
    {
      "cell_type": "markdown",
      "source": [
        "Q5: Who are the top 10 hosts by calculated host listing count?"
      ],
      "metadata": {
        "id": "R2-BEI_3USni"
      }
    },
    {
      "cell_type": "code",
      "source": [
        "print(\"\\n5. Top 10 Hosts by Listing Count:\")\n",
        "top_10_hosts = df.groupby('host_id')['calculated_host_listings_count'].max().sort_values(ascending=False).head(10)\n",
        "print(top_10_hosts)"
      ],
      "metadata": {
        "colab": {
          "base_uri": "https://localhost:8080/"
        },
        "id": "5fP2p9B_UXYO",
        "outputId": "2de5b85a-09b9-47e6-ce57-8b80c8708844"
      },
      "execution_count": 10,
      "outputs": [
        {
          "output_type": "stream",
          "name": "stdout",
          "text": [
            "\n",
            "5. Top 10 Hosts by Listing Count:\n",
            "host_id\n",
            "80832323346    332.0\n",
            "90148229302    332.0\n",
            "90177049292    332.0\n",
            "83412943157    332.0\n",
            "6866703084     332.0\n",
            "18344435096    332.0\n",
            "1727019127     332.0\n",
            "52760110374    332.0\n",
            "94944787862    332.0\n",
            "26125388039    332.0\n",
            "Name: calculated_host_listings_count, dtype: float64\n"
          ]
        }
      ]
    },
    {
      "cell_type": "markdown",
      "source": [
        "Q6: Are hosts with verified identities more likely to receive positive reviews?"
      ],
      "metadata": {
        "id": "_cBSK_VqUaIS"
      }
    },
    {
      "cell_type": "code",
      "source": [
        "print(\"\\n6. Verified Identity and Positive Reviews (Review Rate Number):\")\n",
        "# Assuming 'review_rate_number' is a numerical score where higher is more positive.\n",
        "avg_review_by_verification = df.groupby('host_identity_verified')['review_rate_number'].mean().sort_values(ascending=False)\n",
        "print(\"Average Review Rate Number by Host Verification Status:\")\n",
        "print(avg_review_by_verification)\n",
        "if avg_review_by_verification.get('verified', 0) > avg_review_by_verification.get('unconfirmed', 0):\n",
        "    print(\"\\nCONCLUSION: Verified hosts have a higher average review rate number, suggesting they are more likely to receive positive reviews.\")\n",
        "else:\n",
        "    print(\"\\nCONCLUSION: Verification status does not show a clear advantage in positive reviews based on this metric.\")"
      ],
      "metadata": {
        "colab": {
          "base_uri": "https://localhost:8080/"
        },
        "id": "TUE-58NkUZBB",
        "outputId": "3c4acfde-1207-4855-ca74-f232895b8ca2"
      },
      "execution_count": 11,
      "outputs": [
        {
          "output_type": "stream",
          "name": "stdout",
          "text": [
            "\n",
            "6. Verified Identity and Positive Reviews (Review Rate Number):\n",
            "Average Review Rate Number by Host Verification Status:\n",
            "host_identity_verified\n",
            "verified       3.278024\n",
            "unconfirmed    3.259394\n",
            "Name: review_rate_number, dtype: float64\n",
            "\n",
            "CONCLUSION: Verified hosts have a higher average review rate number, suggesting they are more likely to receive positive reviews.\n"
          ]
        }
      ]
    },
    {
      "cell_type": "markdown",
      "source": [
        "Q7: Is there a correlation between the price of a listing and its service fee?"
      ],
      "metadata": {
        "id": "vvoNgz7UUhdq"
      }
    },
    {
      "cell_type": "code",
      "source": [
        "print(\"\\n7. Correlation between Price and Service Fee:\")\n",
        "correlation_price_fee = df[['price', 'service_fee']].corr().iloc[0, 1]\n",
        "print(f\"The correlation between Price and Service Fee is: {correlation_price_fee:.4f}\")\n",
        "if correlation_price_fee > 0.7:\n",
        "    print(\"This indicates a strong positive correlation (as price increases, so does the service fee).\")\n",
        "else:\n",
        "    print(\"This indicates a moderate or weak correlation.\")"
      ],
      "metadata": {
        "colab": {
          "base_uri": "https://localhost:8080/"
        },
        "id": "vAJM5tj-Uk9G",
        "outputId": "b97c5c0a-56ab-468e-9908-1caee9865686"
      },
      "execution_count": 12,
      "outputs": [
        {
          "output_type": "stream",
          "name": "stdout",
          "text": [
            "\n",
            "7. Correlation between Price and Service Fee:\n",
            "The correlation between Price and Service Fee is: 1.0000\n",
            "This indicates a strong positive correlation (as price increases, so does the service fee).\n"
          ]
        }
      ]
    },
    {
      "cell_type": "markdown",
      "source": [
        "Q8: What is the average review rate number and does it vary based on neighborhood group and room type?"
      ],
      "metadata": {
        "id": "s2PJrcphUn2l"
      }
    },
    {
      "cell_type": "code",
      "source": [
        "print(\"\\n8. Average Review Rate Number (Overall and by Group/Type):\")\n",
        "overall_avg_review = df['review_rate_number'].mean()\n",
        "print(f\"Overall Average Review Rate Number: {overall_avg_review:.2f}\")\n",
        "\n",
        "# Grouped Analysis\n",
        "grouped_review = df.groupby(['neighbourhood_group', 'room_type'])['review_rate_number'].mean().unstack()\n",
        "print(\"\\nAverage Review Rate Number by Neighbourhood Group and Room Type:\")\n",
        "print(grouped_review)"
      ],
      "metadata": {
        "colab": {
          "base_uri": "https://localhost:8080/"
        },
        "id": "7EcADttPUqC_",
        "outputId": "b76b24f5-c764-44bc-8fc1-c32706d20b35"
      },
      "execution_count": 13,
      "outputs": [
        {
          "output_type": "stream",
          "name": "stdout",
          "text": [
            "\n",
            "8. Average Review Rate Number (Overall and by Group/Type):\n",
            "Overall Average Review Rate Number: 3.27\n",
            "\n",
            "Average Review Rate Number by Neighbourhood Group and Room Type:\n",
            "room_type            Entire home/apt  Hotel room  Private room  Shared room\n",
            "neighbourhood_group                                                        \n",
            "Bronx                       3.329735         NaN      3.301151     3.264957\n",
            "Brooklyn                    3.240738        3.75      3.255090     3.324786\n",
            "Manhattan                   3.265336        3.50      3.266609     3.257206\n",
            "Queens                      3.347520        3.75      3.301466     3.359116\n",
            "Staten Island               3.307203         NaN      3.460043     3.533333\n",
            "brookln                          NaN         NaN      4.000000          NaN\n"
          ]
        }
      ]
    },
    {
      "cell_type": "markdown",
      "source": [
        " Q9: Are hosts with a higher calculated host listings count more likely to maintain higher availability throughout the year?"
      ],
      "metadata": {
        "id": "tHwTr7TpUvBO"
      }
    },
    {
      "cell_type": "code",
      "source": [
        "print(\"\\n9. Listing Count and Availability:\")\n",
        "\n",
        "# Calculate correlation between 'calculated_host_listings_count' and 'availability_365'\n",
        "correlation_count_availability = df[['calculated_host_listings_count', 'availability_365']].corr().iloc[0, 1]\n",
        "print(f\"The correlation between Host Listing Count and Availability (365 days) is: {correlation_count_availability:.4f}\")\n",
        "if correlation_count_availability > 0.2:\n",
        "    print(\"This indicates a weak to moderate positive relationship (more listings tends to correlate with slightly higher overall availability).\")\n",
        "elif correlation_count_availability < -0.2:\n",
        "    print(\"This indicates a weak to moderate negative relationship.\")\n",
        "else:\n",
        "    print(\"This indicates a very weak to no linear relationship.\")\n",
        "\n",
        "#  Visualize the relationship\n",
        "plt.figure(figsize=(8, 6))\n",
        "sns.scatterplot(x='calculated_host_listings_count', y='availability_365', data=df)\n",
        "plt.title('Listing Count vs. Availability (Q9)')\n",
        "plt.xlabel('Calculated Host Listings Count')\n",
        "plt.ylabel('Availability (Days)')\n",
        "plt.show()"
      ],
      "metadata": {
        "colab": {
          "base_uri": "https://localhost:8080/",
          "height": 637
        },
        "id": "-YJizgxHUupa",
        "outputId": "e8ac0f4d-3607-4fb4-d78c-d3eab2f2533c"
      },
      "execution_count": 14,
      "outputs": [
        {
          "output_type": "stream",
          "name": "stdout",
          "text": [
            "\n",
            "9. Listing Count and Availability:\n",
            "The correlation between Host Listing Count and Availability (365 days) is: 0.1598\n",
            "This indicates a very weak to no linear relationship.\n"
          ]
        },
        {
          "output_type": "display_data",
          "data": {
            "text/plain": [
              "<Figure size 800x600 with 1 Axes>"
            ],
            "image/png": "[encoded data removed]"
          },
          "metadata": {}
        }
      ]
    },
    {
      "cell_type": "markdown",
      "source": [
        "# AI based system to recommend or suggests listings based on user preferences"
      ],
      "metadata": {
        "id": "Xt1eUHDNYOFU"
      }
    },
    {
      "cell_type": "code",
      "source": [
        "from sklearn.preprocessing import StandardScaler, OneHotEncoder\n",
        "from sklearn.compose import ColumnTransformer\n",
        "from sklearn.metrics.pairwise import cosine_similarity\n",
        "\n",
        "\n",
        "# Clean column names (lowercase, replace spaces with _)\n",
        "df.columns = df.columns.str.strip().str.lower().str.replace(\" \", \"_\")\n",
        "\n",
        "# Select useful features\n",
        "features = ['price','service_fee','minimum_nights','number_of_reviews',\n",
        "            'availability_365','neighbourhood_group','room_type',\n",
        "            'cancellation_policy','instant_bookable','host_identity_verified']\n",
        "\n",
        "data = df[features].copy()\n",
        "\n",
        "# Handle missing values\n",
        "for col in ['price','service_fee','minimum_nights','number_of_reviews','availability_365']:\n",
        "    data[col].fillna(data[col].median(), inplace=True)\n",
        "\n",
        "for col in ['neighbourhood_group','room_type','cancellation_policy','instant_bookable','host_identity_verified']:\n",
        "    # Convert to string type before filling NaN to ensure uniform type\n",
        "    data[col] = data[col].astype(str).fillna(\"Unknown\")\n",
        "\n",
        "\n",
        "# Define column types\n",
        "num_cols = ['price','service_fee','minimum_nights','number_of_reviews','availability_365']\n",
        "cat_cols = ['neighbourhood_group','room_type','cancellation_policy','instant_bookable','host_identity_verified']\n",
        "\n",
        "# Preprocessor: scale numeric + one-hot encode categoricals\n",
        "preprocessor = ColumnTransformer([\n",
        "    ('num', StandardScaler(), num_cols),\n",
        "    ('cat', OneHotEncoder(handle_unknown=\"ignore\"), cat_cols)\n",
        "])\n",
        "\n",
        "# Fit-transform dataset\n",
        "features_transformed = preprocessor.fit_transform(data)\n",
        "\n",
        "\n",
        "def recommend_from_preferences(budget, nights, reviews, n=5):\n",
        "    user_pref = pd.DataFrame([{\n",
        "        'price': budget,\n",
        "        'service_fee': df['service_fee'].median(),  # default value\n",
        "        'minimum_nights': nights,\n",
        "        'number_of_reviews': reviews,\n",
        "        'availability_365': df['availability_365'].median(),\n",
        "        'neighbourhood_group': \"Manhattan\",   # you can change this\n",
        "        'room_type': \"Entire home/apt\",       # you can change this\n",
        "        'cancellation_policy': \"flexible\",    # you can change this\n",
        "        'instant_bookable': \"t\",\n",
        "        'host_identity_verified': \"verified\"\n",
        "    }])\n",
        "\n",
        "    user_transformed = preprocessor.transform(user_pref)\n",
        "    scores = cosine_similarity(user_transformed, features_transformed)[0]\n",
        "    top_indices = scores.argsort()[::-1][0:n]\n",
        "    return df.iloc[top_indices][['name','neighbourhood_group','room_type',\n",
        "                                 'price','number_of_reviews','availability_365']]\n",
        "\n",
        "# Example: user wants budget ~150 USD, 3 nights, 20 reviews\n",
        "print(\"\\nRecommendations for user preferences:\")\n",
        "print(recommend_from_preferences(150, 3, 20, 5))"
      ],
      "metadata": {
        "colab": {
          "base_uri": "https://localhost:8080/"
        },
        "id": "gESRdc5kxPec",
        "outputId": "4fc1349b-ab11-4923-b724-fbcb7740d160"
      },
      "execution_count": 16,
      "outputs": [
        {
          "output_type": "stream",
          "name": "stderr",
          "text": [
            "/tmp/ipython-input-1337401793.py:18: FutureWarning: A value is trying to be set on a copy of a DataFrame or Series through chained assignment using an inplace method.\n",
            "The behavior will change in pandas 3.0. This inplace method will never work because the intermediate object on which we are setting values always behaves as a copy.\n",
            "\n",
            "For example, when doing 'df[col].method(value, inplace=True)', try using 'df.method({col: value}, inplace=True)' or df[col] = df[col].method(value) instead, to perform the operation inplace on the original object.\n",
            "\n",
            "\n",
            "  data[col].fillna(data[col].median(), inplace=True)\n"
          ]
        },
        {
          "output_type": "stream",
          "name": "stdout",
          "text": [
            "\n",
            "Recommendations for user preferences:\n",
            "                                                   name neighbourhood_group  \\\n",
            "40523                    Serenity Studio in East Harlem           Manhattan   \n",
            "41492                          Quiet 1bedroom apartment           Manhattan   \n",
            "74099                          Quiet 1bedroom apartment           Manhattan   \n",
            "32371                  Hip All Stone East Village Condo           Manhattan   \n",
            "29055  Manhattan Club Luxury Condo Central Park - Suite           Manhattan   \n",
            "\n",
            "             room_type  price  number_of_reviews  availability_365  \n",
            "40523  Entire home/apt  373.0               20.0              81.0  \n",
            "41492  Entire home/apt  338.0               23.0             106.0  \n",
            "74099  Entire home/apt  338.0               23.0             106.0  \n",
            "32371  Entire home/apt  332.0               11.0              88.0  \n",
            "29055  Entire home/apt  306.0               13.0              65.0  \n"
          ]
        }
      ]
    },
    {
      "cell_type": "markdown",
      "source": [
        "# Conclusion\n",
        "\n",
        "1. Loading dataset\n",
        "2. Cleaning and Wrangling\n",
        "3. EDA and data visualization of following questions\n",
        "4. AI model to predict recomendations for your next hotel booking"
      ],
      "metadata": {
        "id": "OsAxrRje4iFP"
      }
    }
  ]
}